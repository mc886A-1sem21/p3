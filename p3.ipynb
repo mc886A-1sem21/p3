{
 "metadata": {
  "language_info": {
   "codemirror_mode": {
    "name": "ipython",
    "version": 3
   },
   "file_extension": ".py",
   "mimetype": "text/x-python",
   "name": "python",
   "nbconvert_exporter": "python",
   "pygments_lexer": "ipython3",
   "version": "3.8.5"
  },
  "orig_nbformat": 4,
  "kernelspec": {
   "name": "python3",
   "display_name": "Python 3.8.5 64-bit"
  },
  "interpreter": {
   "hash": "9a94ca9f525866a261db2c565a54f0cd18a53db00fa674a50fa4c97d80740809"
  }
 },
 "nbformat": 4,
 "nbformat_minor": 2,
 "cells": [
  {
   "cell_type": "code",
   "execution_count": null,
   "metadata": {},
   "outputs": [],
   "source": [
    "!python pacman.py -h"
   ]
  },
  {
   "source": [
    "Evolucionary Model:\n",
    "* The evolutionary model adopted -> Genetic Algorithms\n",
    "* Variations on parameters -> Population size/Crossover rate/Mutation rate/Generation interval/Stopping criteria\n",
    "* Fitness function adopted -> max score and has won\n",
    "* Population size -> population_size\n",
    "* Stop criteria -> max_generation or population_average hasn`t changed\n",
    "* Selection technique ->\n",
    "* Crossover technique ->\n",
    "* Mutation technique ->\n",
    "* Replacement method ->\n",
    "* Mutation rate ->\n",
    "* Crossover rate ->"
   ],
   "cell_type": "markdown",
   "metadata": {}
  },
  {
   "cell_type": "code",
   "execution_count": null,
   "metadata": {},
   "outputs": [],
   "source": [
    "## Imports\n",
    "import random\n",
    "import re\n",
    "from statistics import mean"
   ]
  },
  {
   "cell_type": "code",
   "execution_count": null,
   "metadata": {},
   "outputs": [],
   "source": [
    "## Inicialização da população\n",
    "random.seed(10)\n",
    "population = []\n",
    "population_size = 100\n",
    "for i in range(population_size):\n",
    "    len  = random.randint(4, 50)\n",
    "    individuo = \"\"\n",
    "    for c in range(len):\n",
    "        carac = random.randint(1, 100)\n",
    "        if carac >= 50:\n",
    "            individuo = individuo + 'L'\n",
    "        else:\n",
    "            individuo = individuo + 'R'\n",
    "    population.append(individuo)\n",
    "print(population)"
   ]
  },
  {
   "cell_type": "code",
   "execution_count": null,
   "metadata": {},
   "outputs": [],
   "source": [
    "population_scores = []\r\n",
    "for i in population:\r\n",
    "    result = !python pacman.py -p EvolutionAgent -a steps=$i -q -f\r\n",
    "    population_scores.append(result[2].split(':')[1].replace(\" \", \"\"))\r\n",
    "scores = list(map(lambda x: -int(re.search('[\\d]+', x).group()) if '-' in x else int(re.search('[\\d]+', x).group()), population_scores))"
   ]
  },
  {
   "cell_type": "code",
   "execution_count": null,
   "metadata": {},
   "outputs": [],
   "source": [
    "print(scores)\n",
    "max_value = max(scores)\n",
    "population_avg = mean(scores)\n",
    "min_value = min(scores)"
   ]
  },
  {
   "cell_type": "code",
   "execution_count": null,
   "metadata": {},
   "outputs": [],
   "source": [
    "x = [i for i, j in enumerate(scores) if j == m]"
   ]
  },
  {
   "cell_type": "code",
   "execution_count": null,
   "metadata": {},
   "outputs": [],
   "source": [
    "print(m)"
   ]
  },
  {
   "cell_type": "code",
   "execution_count": null,
   "metadata": {},
   "outputs": [],
   "source": [
    "print(x)"
   ]
  },
  {
   "cell_type": "code",
   "execution_count": null,
   "metadata": {},
   "outputs": [],
   "source": [
    "agent = population[70]\n",
    "result = !python pacman.py -p EvolutionAgent -a steps=$agent -f"
   ]
  },
  {
   "source": [
    "Reinforcement Learning:\n",
    "* The MDP formulation (states, actions, reward function)\n",
    "* The discretization model adopted\n",
    "* The number of training episodes\n",
    "* The stop criteria\n",
    "* The learning rate value and other parameter values used"
   ],
   "cell_type": "markdown",
   "metadata": {}
  }
 ]
}